{
 "cells": [
  {
   "cell_type": "code",
   "execution_count": null,
   "metadata": {},
   "outputs": [],
   "source": [
    "import pandas as pd\n",
    "train = pd.read_csv('./train.csv')\n",
    "test = pd.read_csv('./test.csv')\n",
    "submission = pd.read_csv('./submission.csv')"
   ]
  },
  {
   "cell_type": "code",
   "execution_count": 2,
   "metadata": {},
   "outputs": [],
   "source": [
    "import numpy as np\n",
    "import matplotlib.pyplot as plt"
   ]
  },
  {
   "cell_type": "code",
   "execution_count": 3,
   "metadata": {},
   "outputs": [],
   "source": [
    "import tensorflow as tf\n",
    "np.random.seed(42)\n",
    "tf.random.set_seed(42)"
   ]
  },
  {
   "cell_type": "code",
   "execution_count": 4,
   "metadata": {},
   "outputs": [],
   "source": [
    "from tensorflow.keras import models\n",
    "from tensorflow.keras import layers\n",
    "from tensorflow.keras.utils import to_categorical"
   ]
  },
  {
   "cell_type": "code",
   "execution_count": 5,
   "metadata": {},
   "outputs": [],
   "source": [
    "X_train_full = (train[[str(i) for i in range(784)]]/255.).values.reshape(-1,28,28,1)\n",
    "y_train_full = train['digit'].values\n",
    "z_train_full = train['letter']"
   ]
  },
  {
   "cell_type": "code",
   "execution_count": 6,
   "metadata": {},
   "outputs": [],
   "source": [
    "from tensorflow.keras.preprocessing.image import ImageDataGenerator"
   ]
  },
  {
   "cell_type": "code",
   "execution_count": 7,
   "metadata": {},
   "outputs": [],
   "source": [
    "datagen = ImageDataGenerator(\n",
    "    rotation_range = 36,\n",
    "    zoom_range = 0.20,\n",
    "    width_shift_range = 0.2,\n",
    "    height_shift_range = 0.2,\n",
    "    validation_split=0.25\n",
    ")"
   ]
  },
  {
   "cell_type": "code",
   "execution_count": 8,
   "metadata": {},
   "outputs": [],
   "source": [
    "batch_size = 32\n",
    "train_generator = datagen.flow(\n",
    "    X_train_full, y_train_full,\n",
    "    batch_size=batch_size,\n",
    "    subset='training'\n",
    ")\n",
    "validation_generator = datagen.flow(\n",
    "    X_train_full, y_train_full,\n",
    "    batch_size=batch_size,\n",
    "    subset='validation'\n",
    ")"
   ]
  },
  {
   "cell_type": "code",
   "execution_count": 9,
   "metadata": {},
   "outputs": [],
   "source": [
    "from sklearn.preprocessing import LabelEncoder\n",
    "from sklearn.preprocessing import OneHotEncoder"
   ]
  },
  {
   "cell_type": "code",
   "execution_count": 10,
   "metadata": {},
   "outputs": [],
   "source": [
    "z_train = np.array(z_train_full)"
   ]
  },
  {
   "cell_type": "code",
   "execution_count": 11,
   "metadata": {},
   "outputs": [
    {
     "data": {
      "text/plain": [
       "array(['L', 'B', 'L', ..., 'A', 'Z', 'Z'], dtype=object)"
      ]
     },
     "execution_count": 11,
     "metadata": {},
     "output_type": "execute_result"
    }
   ],
   "source": [
    "z_train"
   ]
  },
  {
   "cell_type": "code",
   "execution_count": 12,
   "metadata": {},
   "outputs": [],
   "source": [
    "from string import ascii_uppercase\n",
    "alpha_list = list(ascii_uppercase)"
   ]
  },
  {
   "cell_type": "code",
   "execution_count": 13,
   "metadata": {},
   "outputs": [
    {
     "data": {
      "text/plain": [
       "'L'"
      ]
     },
     "execution_count": 13,
     "metadata": {},
     "output_type": "execute_result"
    }
   ],
   "source": [
    "z_train[0]"
   ]
  },
  {
   "cell_type": "code",
   "execution_count": 14,
   "metadata": {},
   "outputs": [],
   "source": [
    "label_encoder = LabelEncoder()\n",
    "integer_encoded = label_encoder.fit_transform(z_train)"
   ]
  },
  {
   "cell_type": "code",
   "execution_count": 15,
   "metadata": {},
   "outputs": [],
   "source": [
    "z = to_categorical(integer_encoded)"
   ]
  },
  {
   "cell_type": "code",
   "execution_count": 16,
   "metadata": {},
   "outputs": [
    {
     "data": {
      "text/plain": [
       "array([[0., 0., 0., ..., 0., 0., 0.],\n",
       "       [0., 1., 0., ..., 0., 0., 0.],\n",
       "       [0., 0., 0., ..., 0., 0., 0.],\n",
       "       ...,\n",
       "       [1., 0., 0., ..., 0., 0., 0.],\n",
       "       [0., 0., 0., ..., 0., 0., 1.],\n",
       "       [0., 0., 0., ..., 0., 0., 1.]], dtype=float32)"
      ]
     },
     "execution_count": 16,
     "metadata": {},
     "output_type": "execute_result"
    }
   ],
   "source": [
    "z"
   ]
  },
  {
   "cell_type": "code",
   "execution_count": 17,
   "metadata": {},
   "outputs": [
    {
     "data": {
      "text/plain": [
       "(2048, 26)"
      ]
     },
     "execution_count": 17,
     "metadata": {},
     "output_type": "execute_result"
    }
   ],
   "source": [
    "z.shape"
   ]
  },
  {
   "cell_type": "code",
   "execution_count": 18,
   "metadata": {},
   "outputs": [
    {
     "data": {
      "text/plain": [
       "'L'"
      ]
     },
     "execution_count": 18,
     "metadata": {},
     "output_type": "execute_result"
    }
   ],
   "source": [
    "alpha_list[np.argmax(z[0])]"
   ]
  },
  {
   "cell_type": "code",
   "execution_count": 19,
   "metadata": {},
   "outputs": [],
   "source": [
    "batch_size=32\n",
    "train_generator2 = datagen.flow(\n",
    "    X_train_full, z,\n",
    "    batch_size=batch_size,\n",
    "    subset='training'\n",
    ")\n",
    "validation_generator2 = datagen.flow(\n",
    "    X_train_full, z,\n",
    "    batch_size=batch_size,\n",
    "    subset='validation'\n",
    ")"
   ]
  },
  {
   "cell_type": "code",
   "execution_count": 20,
   "metadata": {},
   "outputs": [],
   "source": [
    "model = models.Sequential()\n",
    "model.add(layers.Conv2D(32, kernel_size=3, padding=\"same\", activation=\"relu\",\n",
    "                       input_shape=(28,28,1)))\n",
    "model.add(layers.Conv2D(32, kernel_size=3, padding=\"same\", activation=\"relu\",))\n",
    "model.add(layers.Conv2D(32, kernel_size=3, strides=2, activation=\"relu\"))\n",
    "model.add(layers.Dropout(0.3))\n",
    "          \n",
    "model.add(layers.Conv2D(64, kernel_size=3, padding=\"same\", activation=\"relu\"))\n",
    "model.add(layers.Conv2D(64, kernel_size=3, padding=\"same\", activation=\"relu\"))\n",
    "model.add(layers.Conv2D(64, kernel_size=3, strides=2, activation=\"relu\"))\n",
    "model.add(layers.Dropout(0.3))\n",
    "\n",
    "model.add(layers.Conv2D(128, kernel_size=3, padding=\"same\", activation=\"relu\"))\n",
    "model.add(layers.Conv2D(128, kernel_size=3, padding=\"same\", activation=\"relu\"))\n",
    "model.add(layers.Conv2D(128, kernel_size=3, strides=2, activation=\"relu\"))\n",
    "model.add(layers.Dropout(0.3))\n",
    "\n",
    "model.add(layers.Conv2D(256, kernel_size=3, padding=\"same\", activation=\"relu\"))\n",
    "model.add(layers.Dense(128, activation=\"relu\"))\n",
    "model.add(layers.Flatten())\n",
    "model.add(layers.Dropout(0.3))\n",
    "model.add(layers.Dense(26, activation=\"softmax\"))"
   ]
  },
  {
   "cell_type": "code",
   "execution_count": 32,
   "metadata": {},
   "outputs": [],
   "source": [
    "input_ = layers.Input(shape=(28,28,1))\n",
    "x = layers.Conv2D(32, kernel_size=3, padding=\"same\", activation=\"relu\")(input_)\n",
    "x = layers.Conv2D(32, kernel_size=3, padding=\"same\", activation=\"relu\")(x)\n",
    "x = layers.Conv2D(32, kernel_size=3, strides=2, activation=\"relu\")(x)\n",
    "x = layers.Dropout(0.3)(x)\n",
    "\n",
    "x = layers.Conv2D(64, kernel_size=3, padding=\"same\", activation=\"relu\")(x)\n",
    "x = layers.Conv2D(64, kernel_size=3, padding=\"same\", activation=\"relu\")(x)\n",
    "x = layers.Conv2D(64, kernel_size=3, strides=2, activation=\"relu\")(x)\n",
    "x = layers.Dropout(0.3)(x)\n",
    "\n",
    "x = layers.Conv2D(128, kernel_size=3, padding=\"same\", activation=\"relu\")(x)\n",
    "x = layers.Conv2D(128, kernel_size=3, padding=\"same\", activation=\"relu\")(x)\n",
    "x = layers.Conv2D(128, kernel_size=3, strides=2, activation=\"relu\")(x)\n",
    "x = layers.Dropout(0.3)(x)\n",
    "\n",
    "x = layers.Conv2D(256, kernel_size=3, padding=\"same\", activation=\"relu\")(x)\n",
    "x = layers.Flatten()(x)\n",
    "x = layers.Dropout(0.5)(x)\n",
    "x1 = layers.Dense(26, activation = \"softmax\")(x)\n",
    "\n",
    "model1 = models.Model(inputs=input_, outputs=x1)\n"
   ]
  },
  {
   "cell_type": "code",
   "execution_count": 40,
   "metadata": {},
   "outputs": [],
   "source": [
    "x_ = layers.Dense(128, activation=\"relu\")(x)\n",
    "x1_ = layers.Dense(128, activation=\"relu\")(x1)\n",
    "y = layers.Concatenate(axis=1)([x_, x1])\n",
    "output_ = layers.Dense(10, activation=\"softmax\")(y)\n",
    "#model2= models.Model(inputs=[x_, x1_], outputs=output_)"
   ]
  },
  {
   "cell_type": "code",
   "execution_count": 42,
   "metadata": {},
   "outputs": [],
   "source": [
    "model2= models.Model(inputs=input_, outputs=output_)"
   ]
  },
  {
   "cell_type": "code",
   "execution_count": 43,
   "metadata": {},
   "outputs": [
    {
     "name": "stdout",
     "output_type": "stream",
     "text": [
      "Model: \"model_5\"\n",
      "__________________________________________________________________________________________________\n",
      "Layer (type)                    Output Shape         Param #     Connected to                     \n",
      "==================================================================================================\n",
      "input_3 (InputLayer)            [(None, 28, 28, 1)]  0                                            \n",
      "__________________________________________________________________________________________________\n",
      "conv2d_25 (Conv2D)              (None, 28, 28, 32)   320         input_3[0][0]                    \n",
      "__________________________________________________________________________________________________\n",
      "conv2d_26 (Conv2D)              (None, 28, 28, 32)   9248        conv2d_25[0][0]                  \n",
      "__________________________________________________________________________________________________\n",
      "conv2d_27 (Conv2D)              (None, 13, 13, 32)   9248        conv2d_26[0][0]                  \n",
      "__________________________________________________________________________________________________\n",
      "dropout_12 (Dropout)            (None, 13, 13, 32)   0           conv2d_27[0][0]                  \n",
      "__________________________________________________________________________________________________\n",
      "conv2d_28 (Conv2D)              (None, 13, 13, 64)   18496       dropout_12[0][0]                 \n",
      "__________________________________________________________________________________________________\n",
      "conv2d_29 (Conv2D)              (None, 13, 13, 64)   36928       conv2d_28[0][0]                  \n",
      "__________________________________________________________________________________________________\n",
      "conv2d_30 (Conv2D)              (None, 6, 6, 64)     36928       conv2d_29[0][0]                  \n",
      "__________________________________________________________________________________________________\n",
      "dropout_13 (Dropout)            (None, 6, 6, 64)     0           conv2d_30[0][0]                  \n",
      "__________________________________________________________________________________________________\n",
      "conv2d_31 (Conv2D)              (None, 6, 6, 128)    73856       dropout_13[0][0]                 \n",
      "__________________________________________________________________________________________________\n",
      "conv2d_32 (Conv2D)              (None, 6, 6, 128)    147584      conv2d_31[0][0]                  \n",
      "__________________________________________________________________________________________________\n",
      "conv2d_33 (Conv2D)              (None, 2, 2, 128)    147584      conv2d_32[0][0]                  \n",
      "__________________________________________________________________________________________________\n",
      "dropout_14 (Dropout)            (None, 2, 2, 128)    0           conv2d_33[0][0]                  \n",
      "__________________________________________________________________________________________________\n",
      "conv2d_34 (Conv2D)              (None, 2, 2, 256)    295168      dropout_14[0][0]                 \n",
      "__________________________________________________________________________________________________\n",
      "flatten_3 (Flatten)             (None, 1024)         0           conv2d_34[0][0]                  \n",
      "__________________________________________________________________________________________________\n",
      "dropout_15 (Dropout)            (None, 1024)         0           flatten_3[0][0]                  \n",
      "__________________________________________________________________________________________________\n",
      "dense_16 (Dense)                (None, 128)          131200      dropout_15[0][0]                 \n",
      "__________________________________________________________________________________________________\n",
      "dense_4 (Dense)                 (None, 26)           26650       dropout_15[0][0]                 \n",
      "__________________________________________________________________________________________________\n",
      "concatenate_4 (Concatenate)     (None, 154)          0           dense_16[0][0]                   \n",
      "                                                                 dense_4[0][0]                    \n",
      "__________________________________________________________________________________________________\n",
      "dense_18 (Dense)                (None, 10)           1550        concatenate_4[0][0]              \n",
      "==================================================================================================\n",
      "Total params: 934,760\n",
      "Trainable params: 934,760\n",
      "Non-trainable params: 0\n",
      "__________________________________________________________________________________________________\n"
     ]
    }
   ],
   "source": [
    "model2.summary()"
   ]
  },
  {
   "cell_type": "code",
   "execution_count": 22,
   "metadata": {},
   "outputs": [],
   "source": [
    "input_l = layers.Input(shape=(28,28,1))\n",
    "x = layers.Conv2D(32, kernel_size=3, padding=\"same\", activation=\"relu\")(input_l)\n",
    "x = layers.Conv2D(32, kernel_size=3, padding=\"valid\",strides=2, activation=\"relu\")(x)\n",
    "x = layers.Dropout(0.5)(x)\n",
    "x = layers.Conv2D(64, kernel_size=3, padding=\"valid\",strides=2, activation=\"relu\")(x)\n",
    "x = layers.Dropout(0.5)(x)\n",
    "x = layers.Conv2D(128, kernel_size=3, padding=\"valid\",strides=2, activation=\"relu\")(x)\n",
    "x = layers.Dropout(0.5)(x)\n",
    "\n",
    "x = layers.Conv2D(128, kernel_size=3, padding=\"same\", activation=\"relu\")(x)\n",
    "x = layers.Flatten()(x)\n",
    "x = layers.Dropout(0.5)(x)\n",
    "\n",
    "output_l = layers.Dense(26, activation = \"softmax\")(x)\n",
    "\n",
    "base_model_l = models.Model(inputs=[input_l], outputs=[output_l])"
   ]
  },
  {
   "cell_type": "code",
   "execution_count": 23,
   "metadata": {},
   "outputs": [],
   "source": [
    "model2.compile(optimizer=\"rmsprop\", loss=\"categorical_crossentropy\", \n",
    "             metrics=[\"accuracy\"])"
   ]
  },
  {
   "cell_type": "code",
   "execution_count": 44,
   "metadata": {},
   "outputs": [
    {
     "name": "stdout",
     "output_type": "stream",
     "text": [
      "WARNING:tensorflow:sample_weight modes were coerced from\n",
      "  ...\n",
      "    to  \n",
      "  ['...']\n",
      "WARNING:tensorflow:sample_weight modes were coerced from\n",
      "  ...\n",
      "    to  \n",
      "  ['...']\n",
      "Train for 48 steps, validate for 16 steps\n",
      "Epoch 1/200\n",
      "48/48 [==============================] - 1s 11ms/step - loss: 0.5085 - accuracy: 0.8451 - val_loss: 0.6903 - val_accuracy: 0.8105\n",
      "Epoch 2/200\n",
      "48/48 [==============================] - 1s 11ms/step - loss: 0.4899 - accuracy: 0.8626 - val_loss: 0.5883 - val_accuracy: 0.8125\n",
      "Epoch 3/200\n",
      "48/48 [==============================] - 1s 11ms/step - loss: 0.4717 - accuracy: 0.8594 - val_loss: 0.7278 - val_accuracy: 0.7793\n",
      "Epoch 4/200\n",
      "48/48 [==============================] - 1s 11ms/step - loss: 0.4843 - accuracy: 0.8457 - val_loss: 0.6798 - val_accuracy: 0.8164\n",
      "Epoch 5/200\n",
      "48/48 [==============================] - 1s 11ms/step - loss: 0.4154 - accuracy: 0.8717 - val_loss: 0.5788 - val_accuracy: 0.8418\n",
      "Epoch 6/200\n",
      "48/48 [==============================] - 1s 11ms/step - loss: 0.4736 - accuracy: 0.8600 - val_loss: 0.5888 - val_accuracy: 0.8184\n",
      "Epoch 7/200\n",
      "48/48 [==============================] - 1s 11ms/step - loss: 0.5235 - accuracy: 0.8444 - val_loss: 0.5919 - val_accuracy: 0.8047\n",
      "Epoch 8/200\n",
      "48/48 [==============================] - 1s 11ms/step - loss: 0.5010 - accuracy: 0.8431 - val_loss: 0.7339 - val_accuracy: 0.8008\n",
      "Epoch 9/200\n",
      "48/48 [==============================] - 1s 11ms/step - loss: 0.4731 - accuracy: 0.8574 - val_loss: 0.7334 - val_accuracy: 0.8086\n",
      "Epoch 10/200\n",
      "48/48 [==============================] - 1s 11ms/step - loss: 0.5616 - accuracy: 0.8346 - val_loss: 0.6054 - val_accuracy: 0.8145\n",
      "Epoch 11/200\n",
      "48/48 [==============================] - 1s 11ms/step - loss: 0.5343 - accuracy: 0.8379 - val_loss: 0.7075 - val_accuracy: 0.7891\n",
      "Epoch 12/200\n",
      "48/48 [==============================] - 1s 11ms/step - loss: 0.4856 - accuracy: 0.8613 - val_loss: 0.5786 - val_accuracy: 0.8301\n",
      "Epoch 13/200\n",
      "48/48 [==============================] - 1s 11ms/step - loss: 0.4791 - accuracy: 0.8594 - val_loss: 0.5558 - val_accuracy: 0.8242\n",
      "Epoch 14/200\n",
      "48/48 [==============================] - 1s 11ms/step - loss: 0.4662 - accuracy: 0.8607 - val_loss: 0.8143 - val_accuracy: 0.7715\n",
      "Epoch 15/200\n",
      "48/48 [==============================] - 1s 11ms/step - loss: 0.4814 - accuracy: 0.8665 - val_loss: 0.6621 - val_accuracy: 0.8203\n",
      "Epoch 16/200\n",
      "48/48 [==============================] - 1s 11ms/step - loss: 0.5548 - accuracy: 0.8385 - val_loss: 0.6718 - val_accuracy: 0.8008\n",
      "Epoch 17/200\n",
      "48/48 [==============================] - 1s 11ms/step - loss: 0.5028 - accuracy: 0.8496 - val_loss: 0.7270 - val_accuracy: 0.8008\n",
      "Epoch 18/200\n",
      "48/48 [==============================] - 1s 11ms/step - loss: 0.4499 - accuracy: 0.8607 - val_loss: 0.6472 - val_accuracy: 0.8125\n",
      "Epoch 19/200\n",
      "48/48 [==============================] - 1s 11ms/step - loss: 0.4971 - accuracy: 0.8535 - val_loss: 0.6310 - val_accuracy: 0.8340\n",
      "Epoch 20/200\n",
      "48/48 [==============================] - 1s 11ms/step - loss: 0.5136 - accuracy: 0.8379 - val_loss: 0.6676 - val_accuracy: 0.7988\n",
      "Epoch 21/200\n",
      "48/48 [==============================] - 1s 11ms/step - loss: 0.4947 - accuracy: 0.8587 - val_loss: 0.6466 - val_accuracy: 0.8301\n",
      "Epoch 22/200\n",
      "48/48 [==============================] - 1s 11ms/step - loss: 0.4808 - accuracy: 0.8561 - val_loss: 0.6601 - val_accuracy: 0.8164\n",
      "Epoch 23/200\n",
      "48/48 [==============================] - 1s 10ms/step - loss: 0.4689 - accuracy: 0.8594 - val_loss: 0.8177 - val_accuracy: 0.7832\n",
      "Epoch 24/200\n",
      "48/48 [==============================] - 1s 11ms/step - loss: 0.5273 - accuracy: 0.8444 - val_loss: 0.6775 - val_accuracy: 0.8047\n",
      "Epoch 25/200\n",
      "48/48 [==============================] - 1s 11ms/step - loss: 0.5926 - accuracy: 0.8320 - val_loss: 0.7747 - val_accuracy: 0.7812\n",
      "Epoch 26/200\n",
      "48/48 [==============================] - 1s 11ms/step - loss: 0.4612 - accuracy: 0.8607 - val_loss: 0.5967 - val_accuracy: 0.8379\n",
      "Epoch 27/200\n",
      "48/48 [==============================] - 1s 11ms/step - loss: 0.5642 - accuracy: 0.8411 - val_loss: 0.6206 - val_accuracy: 0.8164\n",
      "Epoch 28/200\n",
      "48/48 [==============================] - 1s 11ms/step - loss: 0.4747 - accuracy: 0.8574 - val_loss: 0.6531 - val_accuracy: 0.7871\n",
      "Epoch 29/200\n",
      "48/48 [==============================] - 1s 11ms/step - loss: 0.5000 - accuracy: 0.8568 - val_loss: 0.5840 - val_accuracy: 0.8203\n",
      "Epoch 30/200\n",
      "48/48 [==============================] - 1s 11ms/step - loss: 0.4986 - accuracy: 0.8516 - val_loss: 0.6160 - val_accuracy: 0.8242\n",
      "Epoch 31/200\n",
      "48/48 [==============================] - 1s 11ms/step - loss: 0.5501 - accuracy: 0.8535 - val_loss: 0.5986 - val_accuracy: 0.8184\n",
      "Epoch 32/200\n",
      "48/48 [==============================] - 1s 11ms/step - loss: 0.5089 - accuracy: 0.8438 - val_loss: 0.6180 - val_accuracy: 0.7988\n",
      "Epoch 33/200\n",
      "48/48 [==============================] - 1s 11ms/step - loss: 0.5887 - accuracy: 0.8418 - val_loss: 0.7452 - val_accuracy: 0.8105\n",
      "Epoch 34/200\n",
      "48/48 [==============================] - 1s 11ms/step - loss: 0.4950 - accuracy: 0.8490 - val_loss: 0.6403 - val_accuracy: 0.8340\n",
      "Epoch 35/200\n",
      "48/48 [==============================] - 0s 10ms/step - loss: 0.5234 - accuracy: 0.8490 - val_loss: 0.6476 - val_accuracy: 0.8066\n",
      "Epoch 36/200\n",
      "48/48 [==============================] - 1s 11ms/step - loss: 0.5674 - accuracy: 0.8366 - val_loss: 0.6763 - val_accuracy: 0.8125\n",
      "Epoch 37/200\n",
      "48/48 [==============================] - 1s 10ms/step - loss: 0.5093 - accuracy: 0.8405 - val_loss: 0.5898 - val_accuracy: 0.8105\n",
      "Epoch 38/200\n",
      "48/48 [==============================] - 1s 11ms/step - loss: 0.5214 - accuracy: 0.8457 - val_loss: 0.5541 - val_accuracy: 0.8457\n",
      "Epoch 39/200\n",
      "48/48 [==============================] - 1s 11ms/step - loss: 0.5535 - accuracy: 0.8483 - val_loss: 0.5388 - val_accuracy: 0.8281\n",
      "Epoch 40/200\n",
      "48/48 [==============================] - 1s 11ms/step - loss: 0.5088 - accuracy: 0.8496 - val_loss: 0.5684 - val_accuracy: 0.8223\n",
      "Epoch 41/200\n",
      "48/48 [==============================] - 1s 11ms/step - loss: 0.5247 - accuracy: 0.8464 - val_loss: 0.6190 - val_accuracy: 0.8027\n",
      "Epoch 42/200\n",
      "48/48 [==============================] - 1s 11ms/step - loss: 0.5189 - accuracy: 0.8411 - val_loss: 0.6983 - val_accuracy: 0.7812\n",
      "Epoch 43/200\n",
      "48/48 [==============================] - 0s 10ms/step - loss: 0.5147 - accuracy: 0.8451 - val_loss: 0.6557 - val_accuracy: 0.8184\n",
      "Epoch 44/200\n",
      "48/48 [==============================] - 1s 10ms/step - loss: 0.5033 - accuracy: 0.8451 - val_loss: 0.6888 - val_accuracy: 0.7988\n",
      "Epoch 45/200\n",
      "48/48 [==============================] - 0s 10ms/step - loss: 0.4450 - accuracy: 0.8633 - val_loss: 0.5768 - val_accuracy: 0.8262\n",
      "Epoch 46/200\n",
      "48/48 [==============================] - 1s 11ms/step - loss: 0.4747 - accuracy: 0.8607 - val_loss: 0.5568 - val_accuracy: 0.8301\n",
      "Epoch 47/200\n",
      "48/48 [==============================] - 1s 11ms/step - loss: 0.6079 - accuracy: 0.8444 - val_loss: 0.7279 - val_accuracy: 0.7988\n",
      "Epoch 48/200\n",
      "48/48 [==============================] - 1s 11ms/step - loss: 0.5164 - accuracy: 0.8464 - val_loss: 0.6717 - val_accuracy: 0.8125\n",
      "Epoch 49/200\n",
      "48/48 [==============================] - 1s 11ms/step - loss: 0.5281 - accuracy: 0.8392 - val_loss: 0.6695 - val_accuracy: 0.7891\n",
      "Epoch 50/200\n",
      "48/48 [==============================] - 1s 11ms/step - loss: 0.5284 - accuracy: 0.8405 - val_loss: 0.7207 - val_accuracy: 0.8145\n",
      "Epoch 51/200\n",
      "48/48 [==============================] - 1s 11ms/step - loss: 0.5504 - accuracy: 0.8327 - val_loss: 0.7144 - val_accuracy: 0.7891\n",
      "Epoch 52/200\n",
      "48/48 [==============================] - 1s 11ms/step - loss: 0.4911 - accuracy: 0.8535 - val_loss: 0.6894 - val_accuracy: 0.8203\n",
      "Epoch 53/200\n",
      "48/48 [==============================] - 1s 11ms/step - loss: 0.5372 - accuracy: 0.8568 - val_loss: 0.7451 - val_accuracy: 0.8047\n",
      "Epoch 54/200\n",
      "48/48 [==============================] - 1s 11ms/step - loss: 0.4965 - accuracy: 0.8529 - val_loss: 0.5931 - val_accuracy: 0.8105\n",
      "Epoch 55/200\n",
      "48/48 [==============================] - 1s 11ms/step - loss: 0.5214 - accuracy: 0.8464 - val_loss: 0.5496 - val_accuracy: 0.8223\n",
      "Epoch 56/200\n",
      "48/48 [==============================] - 1s 11ms/step - loss: 0.4643 - accuracy: 0.8555 - val_loss: 0.5968 - val_accuracy: 0.8242\n"
     ]
    },
    {
     "name": "stdout",
     "output_type": "stream",
     "text": [
      "Epoch 57/200\n",
      "48/48 [==============================] - 1s 11ms/step - loss: 0.5248 - accuracy: 0.8522 - val_loss: 0.6588 - val_accuracy: 0.8047\n",
      "Epoch 58/200\n",
      "48/48 [==============================] - 1s 11ms/step - loss: 0.4884 - accuracy: 0.8516 - val_loss: 0.5864 - val_accuracy: 0.8301\n",
      "Epoch 59/200\n",
      "48/48 [==============================] - 1s 11ms/step - loss: 0.5004 - accuracy: 0.8561 - val_loss: 0.5645 - val_accuracy: 0.8320\n",
      "Epoch 60/200\n",
      "48/48 [==============================] - 1s 11ms/step - loss: 0.5201 - accuracy: 0.8470 - val_loss: 0.6137 - val_accuracy: 0.8242\n",
      "Epoch 61/200\n",
      "48/48 [==============================] - 1s 11ms/step - loss: 0.5005 - accuracy: 0.8451 - val_loss: 0.5764 - val_accuracy: 0.8418\n",
      "Epoch 62/200\n",
      "48/48 [==============================] - 1s 11ms/step - loss: 0.5096 - accuracy: 0.8529 - val_loss: 0.7039 - val_accuracy: 0.8066\n",
      "Epoch 63/200\n",
      "48/48 [==============================] - 1s 11ms/step - loss: 0.5322 - accuracy: 0.8385 - val_loss: 0.5531 - val_accuracy: 0.8418\n",
      "Epoch 64/200\n",
      "48/48 [==============================] - 1s 11ms/step - loss: 0.5104 - accuracy: 0.8535 - val_loss: 0.6588 - val_accuracy: 0.8125\n",
      "Epoch 65/200\n",
      "48/48 [==============================] - 1s 11ms/step - loss: 0.5459 - accuracy: 0.8470 - val_loss: 0.5153 - val_accuracy: 0.8320\n",
      "Epoch 66/200\n",
      "48/48 [==============================] - 1s 11ms/step - loss: 0.5055 - accuracy: 0.8457 - val_loss: 0.7687 - val_accuracy: 0.7852\n",
      "Epoch 67/200\n",
      "48/48 [==============================] - 1s 11ms/step - loss: 0.5023 - accuracy: 0.8470 - val_loss: 0.7438 - val_accuracy: 0.7910\n",
      "Epoch 68/200\n",
      "48/48 [==============================] - 1s 11ms/step - loss: 0.5537 - accuracy: 0.8496 - val_loss: 0.7337 - val_accuracy: 0.7832\n",
      "Epoch 69/200\n",
      "48/48 [==============================] - 1s 11ms/step - loss: 0.4619 - accuracy: 0.8587 - val_loss: 0.7151 - val_accuracy: 0.7949\n",
      "Epoch 70/200\n",
      "48/48 [==============================] - 1s 11ms/step - loss: 0.5542 - accuracy: 0.8464 - val_loss: 0.7605 - val_accuracy: 0.7910\n",
      "Epoch 71/200\n",
      "48/48 [==============================] - 1s 11ms/step - loss: 0.5521 - accuracy: 0.8405 - val_loss: 0.6495 - val_accuracy: 0.8145\n",
      "Epoch 72/200\n",
      "48/48 [==============================] - 1s 11ms/step - loss: 0.5509 - accuracy: 0.8490 - val_loss: 0.6117 - val_accuracy: 0.8145\n",
      "Epoch 73/200\n",
      "48/48 [==============================] - 1s 11ms/step - loss: 0.4920 - accuracy: 0.8516 - val_loss: 0.6117 - val_accuracy: 0.8164\n",
      "Epoch 74/200\n",
      "48/48 [==============================] - 1s 11ms/step - loss: 0.5801 - accuracy: 0.8470 - val_loss: 0.7802 - val_accuracy: 0.7969\n",
      "Epoch 75/200\n",
      "48/48 [==============================] - 1s 11ms/step - loss: 0.5292 - accuracy: 0.8600 - val_loss: 0.6265 - val_accuracy: 0.8340\n",
      "Epoch 76/200\n",
      "48/48 [==============================] - 1s 11ms/step - loss: 0.5973 - accuracy: 0.8210 - val_loss: 0.6787 - val_accuracy: 0.7832\n",
      "Epoch 77/200\n",
      "48/48 [==============================] - 1s 11ms/step - loss: 0.5686 - accuracy: 0.8379 - val_loss: 0.6242 - val_accuracy: 0.8223\n",
      "Epoch 78/200\n",
      "48/48 [==============================] - 1s 11ms/step - loss: 0.5187 - accuracy: 0.8438 - val_loss: 0.7020 - val_accuracy: 0.7754\n",
      "Epoch 79/200\n",
      "48/48 [==============================] - 1s 11ms/step - loss: 0.5546 - accuracy: 0.8359 - val_loss: 0.6636 - val_accuracy: 0.8359\n",
      "Epoch 80/200\n",
      "48/48 [==============================] - 1s 11ms/step - loss: 0.5535 - accuracy: 0.8522 - val_loss: 0.6427 - val_accuracy: 0.8184\n",
      "Epoch 81/200\n",
      "48/48 [==============================] - 1s 11ms/step - loss: 0.5693 - accuracy: 0.8535 - val_loss: 0.7087 - val_accuracy: 0.8066\n",
      "Epoch 82/200\n",
      "48/48 [==============================] - 1s 11ms/step - loss: 0.5127 - accuracy: 0.8587 - val_loss: 0.6683 - val_accuracy: 0.8340\n",
      "Epoch 83/200\n",
      "48/48 [==============================] - 1s 11ms/step - loss: 0.5422 - accuracy: 0.8574 - val_loss: 0.5515 - val_accuracy: 0.8301\n",
      "Epoch 84/200\n",
      "48/48 [==============================] - 1s 11ms/step - loss: 0.5001 - accuracy: 0.8522 - val_loss: 0.6419 - val_accuracy: 0.8027\n",
      "Epoch 85/200\n",
      "48/48 [==============================] - 1s 11ms/step - loss: 0.5853 - accuracy: 0.8372 - val_loss: 0.7469 - val_accuracy: 0.7891\n",
      "Epoch 86/200\n",
      "48/48 [==============================] - 1s 11ms/step - loss: 0.5177 - accuracy: 0.8633 - val_loss: 0.6445 - val_accuracy: 0.8008\n",
      "Epoch 87/200\n",
      "48/48 [==============================] - 1s 11ms/step - loss: 0.5672 - accuracy: 0.8327 - val_loss: 0.7764 - val_accuracy: 0.7852\n",
      "Epoch 88/200\n",
      "48/48 [==============================] - 1s 11ms/step - loss: 0.5490 - accuracy: 0.8392 - val_loss: 0.6455 - val_accuracy: 0.8086\n",
      "Epoch 89/200\n",
      "48/48 [==============================] - 1s 11ms/step - loss: 0.5113 - accuracy: 0.8438 - val_loss: 0.6024 - val_accuracy: 0.8184\n",
      "Epoch 90/200\n",
      "48/48 [==============================] - 1s 11ms/step - loss: 0.5494 - accuracy: 0.8418 - val_loss: 0.6057 - val_accuracy: 0.8164\n",
      "Epoch 91/200\n",
      "48/48 [==============================] - 1s 11ms/step - loss: 0.5089 - accuracy: 0.8516 - val_loss: 0.6453 - val_accuracy: 0.8242\n",
      "Epoch 92/200\n",
      "48/48 [==============================] - 1s 11ms/step - loss: 0.5430 - accuracy: 0.8496 - val_loss: 0.8302 - val_accuracy: 0.7949\n",
      "Epoch 93/200\n",
      "48/48 [==============================] - 1s 11ms/step - loss: 0.5705 - accuracy: 0.8398 - val_loss: 0.7025 - val_accuracy: 0.7969\n",
      "Epoch 94/200\n",
      "48/48 [==============================] - 1s 11ms/step - loss: 0.5700 - accuracy: 0.8320 - val_loss: 0.6418 - val_accuracy: 0.8086\n",
      "Epoch 95/200\n",
      "48/48 [==============================] - 1s 11ms/step - loss: 0.5698 - accuracy: 0.8346 - val_loss: 0.7110 - val_accuracy: 0.7852\n",
      "Epoch 96/200\n",
      "48/48 [==============================] - 1s 11ms/step - loss: 0.5982 - accuracy: 0.8496 - val_loss: 0.6647 - val_accuracy: 0.7930\n",
      "Epoch 97/200\n",
      "48/48 [==============================] - 1s 11ms/step - loss: 0.5049 - accuracy: 0.8626 - val_loss: 0.7773 - val_accuracy: 0.7734\n",
      "Epoch 98/200\n",
      "48/48 [==============================] - 1s 11ms/step - loss: 0.5369 - accuracy: 0.8392 - val_loss: 0.7993 - val_accuracy: 0.7930\n",
      "Epoch 99/200\n",
      "48/48 [==============================] - 1s 11ms/step - loss: 0.5344 - accuracy: 0.8555 - val_loss: 0.6761 - val_accuracy: 0.8125\n",
      "Epoch 100/200\n",
      "48/48 [==============================] - 1s 11ms/step - loss: 0.6174 - accuracy: 0.8398 - val_loss: 0.6945 - val_accuracy: 0.8027\n",
      "Epoch 101/200\n",
      "48/48 [==============================] - 1s 11ms/step - loss: 0.8072 - accuracy: 0.8424 - val_loss: 0.6868 - val_accuracy: 0.7910\n",
      "Epoch 102/200\n",
      "48/48 [==============================] - 1s 11ms/step - loss: 0.5214 - accuracy: 0.8444 - val_loss: 0.6636 - val_accuracy: 0.7988\n",
      "Epoch 103/200\n",
      "48/48 [==============================] - 1s 11ms/step - loss: 0.5341 - accuracy: 0.8366 - val_loss: 0.7139 - val_accuracy: 0.8086\n",
      "Epoch 104/200\n",
      "48/48 [==============================] - 1s 11ms/step - loss: 0.5221 - accuracy: 0.8574 - val_loss: 0.7040 - val_accuracy: 0.7832\n",
      "Epoch 105/200\n",
      "48/48 [==============================] - 1s 11ms/step - loss: 0.5620 - accuracy: 0.8405 - val_loss: 0.7156 - val_accuracy: 0.8027\n",
      "Epoch 106/200\n",
      "48/48 [==============================] - 1s 11ms/step - loss: 0.5958 - accuracy: 0.8327 - val_loss: 0.6216 - val_accuracy: 0.8066\n",
      "Epoch 107/200\n",
      "48/48 [==============================] - 1s 11ms/step - loss: 0.5868 - accuracy: 0.8314 - val_loss: 0.6489 - val_accuracy: 0.8184\n",
      "Epoch 108/200\n",
      "48/48 [==============================] - 1s 11ms/step - loss: 0.5419 - accuracy: 0.8509 - val_loss: 0.6294 - val_accuracy: 0.8164\n",
      "Epoch 109/200\n",
      "48/48 [==============================] - 1s 11ms/step - loss: 0.5787 - accuracy: 0.8327 - val_loss: 0.6824 - val_accuracy: 0.8047\n",
      "Epoch 110/200\n",
      "48/48 [==============================] - 1s 11ms/step - loss: 0.5413 - accuracy: 0.8542 - val_loss: 0.7304 - val_accuracy: 0.7598\n",
      "Epoch 111/200\n",
      "48/48 [==============================] - 1s 11ms/step - loss: 0.5274 - accuracy: 0.8503 - val_loss: 0.8489 - val_accuracy: 0.7891\n",
      "Epoch 112/200\n",
      "48/48 [==============================] - 1s 11ms/step - loss: 0.5749 - accuracy: 0.8320 - val_loss: 0.6830 - val_accuracy: 0.7832\n",
      "Epoch 113/200\n",
      "48/48 [==============================] - 1s 11ms/step - loss: 0.5841 - accuracy: 0.8444 - val_loss: 0.6487 - val_accuracy: 0.7832\n",
      "Epoch 114/200\n"
     ]
    },
    {
     "name": "stdout",
     "output_type": "stream",
     "text": [
      "48/48 [==============================] - 1s 11ms/step - loss: 0.6018 - accuracy: 0.8262 - val_loss: 0.6814 - val_accuracy: 0.8223\n",
      "Epoch 115/200\n",
      "48/48 [==============================] - 1s 11ms/step - loss: 0.5186 - accuracy: 0.8451 - val_loss: 0.7362 - val_accuracy: 0.7969\n",
      "Epoch 116/200\n",
      "48/48 [==============================] - 1s 11ms/step - loss: 0.6165 - accuracy: 0.8372 - val_loss: 0.7154 - val_accuracy: 0.8086\n",
      "Epoch 117/200\n",
      "48/48 [==============================] - 1s 11ms/step - loss: 0.5248 - accuracy: 0.8542 - val_loss: 0.6368 - val_accuracy: 0.8262\n",
      "Epoch 118/200\n",
      "48/48 [==============================] - 1s 11ms/step - loss: 0.4952 - accuracy: 0.8587 - val_loss: 0.6927 - val_accuracy: 0.7969\n",
      "Epoch 119/200\n",
      "48/48 [==============================] - 1s 11ms/step - loss: 0.6195 - accuracy: 0.8385 - val_loss: 0.6843 - val_accuracy: 0.7988\n",
      "Epoch 120/200\n",
      "48/48 [==============================] - 1s 11ms/step - loss: 0.5097 - accuracy: 0.8431 - val_loss: 0.7374 - val_accuracy: 0.8164\n",
      "Epoch 121/200\n",
      "48/48 [==============================] - 1s 11ms/step - loss: 0.6180 - accuracy: 0.8418 - val_loss: 0.6008 - val_accuracy: 0.8066\n",
      "Epoch 122/200\n",
      "48/48 [==============================] - 1s 11ms/step - loss: 0.6150 - accuracy: 0.8203 - val_loss: 0.7479 - val_accuracy: 0.7793\n",
      "Epoch 123/200\n",
      "48/48 [==============================] - 1s 11ms/step - loss: 0.5230 - accuracy: 0.8555 - val_loss: 0.6766 - val_accuracy: 0.8066\n",
      "Epoch 124/200\n",
      "48/48 [==============================] - 1s 11ms/step - loss: 0.6623 - accuracy: 0.8320 - val_loss: 0.5983 - val_accuracy: 0.8047\n",
      "Epoch 125/200\n",
      "48/48 [==============================] - 1s 11ms/step - loss: 0.6076 - accuracy: 0.8385 - val_loss: 0.7207 - val_accuracy: 0.7949\n",
      "Epoch 126/200\n",
      "48/48 [==============================] - 1s 11ms/step - loss: 0.5559 - accuracy: 0.8366 - val_loss: 0.7704 - val_accuracy: 0.7891\n",
      "Epoch 127/200\n",
      "48/48 [==============================] - 1s 11ms/step - loss: 0.6005 - accuracy: 0.8346 - val_loss: 0.6791 - val_accuracy: 0.8086\n",
      "Epoch 128/200\n",
      "48/48 [==============================] - 1s 11ms/step - loss: 0.5731 - accuracy: 0.8379 - val_loss: 0.7930 - val_accuracy: 0.7676\n",
      "Epoch 129/200\n",
      "48/48 [==============================] - 1s 11ms/step - loss: 0.6433 - accuracy: 0.8379 - val_loss: 0.6148 - val_accuracy: 0.8047\n",
      "Epoch 130/200\n",
      "48/48 [==============================] - 1s 11ms/step - loss: 0.6014 - accuracy: 0.8314 - val_loss: 0.8391 - val_accuracy: 0.8262\n",
      "Epoch 131/200\n",
      "48/48 [==============================] - 1s 11ms/step - loss: 0.5893 - accuracy: 0.8483 - val_loss: 0.7553 - val_accuracy: 0.7891\n",
      "Epoch 132/200\n",
      "48/48 [==============================] - 1s 11ms/step - loss: 0.5000 - accuracy: 0.8522 - val_loss: 0.6294 - val_accuracy: 0.8086\n",
      "Epoch 133/200\n",
      "48/48 [==============================] - 1s 11ms/step - loss: 0.5573 - accuracy: 0.8451 - val_loss: 0.6324 - val_accuracy: 0.8145\n",
      "Epoch 134/200\n",
      "48/48 [==============================] - 1s 11ms/step - loss: 0.6450 - accuracy: 0.8288 - val_loss: 0.6481 - val_accuracy: 0.8027\n",
      "Epoch 135/200\n",
      "48/48 [==============================] - 1s 11ms/step - loss: 0.5583 - accuracy: 0.8333 - val_loss: 0.6945 - val_accuracy: 0.8066\n",
      "Epoch 136/200\n",
      "48/48 [==============================] - 1s 11ms/step - loss: 0.5448 - accuracy: 0.8483 - val_loss: 0.6857 - val_accuracy: 0.8164\n",
      "Epoch 137/200\n",
      "48/48 [==============================] - 1s 11ms/step - loss: 0.6844 - accuracy: 0.8294 - val_loss: 0.6969 - val_accuracy: 0.7930\n",
      "Epoch 138/200\n",
      "48/48 [==============================] - 1s 11ms/step - loss: 0.6144 - accuracy: 0.8294 - val_loss: 0.5923 - val_accuracy: 0.8145\n",
      "Epoch 139/200\n",
      "48/48 [==============================] - 1s 11ms/step - loss: 0.5445 - accuracy: 0.8418 - val_loss: 0.6707 - val_accuracy: 0.8086\n",
      "Epoch 140/200\n",
      "48/48 [==============================] - 1s 11ms/step - loss: 0.5857 - accuracy: 0.8431 - val_loss: 1.1571 - val_accuracy: 0.7031\n",
      "Epoch 141/200\n",
      "48/48 [==============================] - 1s 11ms/step - loss: 0.5996 - accuracy: 0.8327 - val_loss: 0.7687 - val_accuracy: 0.7773\n",
      "Epoch 142/200\n",
      "48/48 [==============================] - 1s 11ms/step - loss: 0.6082 - accuracy: 0.8281 - val_loss: 0.6395 - val_accuracy: 0.7871\n",
      "Epoch 143/200\n",
      "48/48 [==============================] - 1s 11ms/step - loss: 0.5706 - accuracy: 0.8431 - val_loss: 0.6700 - val_accuracy: 0.8047\n",
      "Epoch 144/200\n",
      "48/48 [==============================] - 1s 11ms/step - loss: 0.6212 - accuracy: 0.8366 - val_loss: 0.6786 - val_accuracy: 0.8027\n",
      "Epoch 145/200\n",
      "48/48 [==============================] - 1s 11ms/step - loss: 0.5736 - accuracy: 0.8333 - val_loss: 0.7676 - val_accuracy: 0.7773\n",
      "Epoch 146/200\n",
      "48/48 [==============================] - 1s 11ms/step - loss: 0.6227 - accuracy: 0.8431 - val_loss: 0.6132 - val_accuracy: 0.8359\n",
      "Epoch 147/200\n",
      "48/48 [==============================] - 1s 11ms/step - loss: 0.5408 - accuracy: 0.8646 - val_loss: 0.7414 - val_accuracy: 0.8184\n",
      "Epoch 148/200\n",
      "48/48 [==============================] - 1s 11ms/step - loss: 0.5655 - accuracy: 0.8424 - val_loss: 0.5866 - val_accuracy: 0.8320\n",
      "Epoch 149/200\n",
      "48/48 [==============================] - 1s 11ms/step - loss: 0.5258 - accuracy: 0.8451 - val_loss: 0.8281 - val_accuracy: 0.7500\n",
      "Epoch 150/200\n",
      "48/48 [==============================] - 1s 11ms/step - loss: 0.6106 - accuracy: 0.8398 - val_loss: 0.7420 - val_accuracy: 0.7988\n",
      "Epoch 151/200\n",
      "48/48 [==============================] - 1s 11ms/step - loss: 0.6516 - accuracy: 0.8229 - val_loss: 0.6579 - val_accuracy: 0.7988\n",
      "Epoch 152/200\n",
      "48/48 [==============================] - 1s 11ms/step - loss: 0.6350 - accuracy: 0.8125 - val_loss: 0.8453 - val_accuracy: 0.7930\n",
      "Epoch 153/200\n",
      "48/48 [==============================] - 1s 11ms/step - loss: 0.6308 - accuracy: 0.8229 - val_loss: 0.7682 - val_accuracy: 0.7676\n",
      "Epoch 154/200\n",
      "48/48 [==============================] - 1s 11ms/step - loss: 0.6377 - accuracy: 0.8294 - val_loss: 0.7110 - val_accuracy: 0.8105\n",
      "Epoch 155/200\n",
      "48/48 [==============================] - 1s 11ms/step - loss: 0.5722 - accuracy: 0.8451 - val_loss: 0.7103 - val_accuracy: 0.7949\n",
      "Epoch 156/200\n",
      "48/48 [==============================] - 1s 11ms/step - loss: 0.6290 - accuracy: 0.8197 - val_loss: 0.9434 - val_accuracy: 0.7695\n",
      "Epoch 157/200\n",
      "48/48 [==============================] - 1s 11ms/step - loss: 0.6010 - accuracy: 0.8288 - val_loss: 0.6786 - val_accuracy: 0.8008\n",
      "Epoch 158/200\n",
      "48/48 [==============================] - 1s 11ms/step - loss: 0.5931 - accuracy: 0.8249 - val_loss: 0.6289 - val_accuracy: 0.8047\n",
      "Epoch 159/200\n",
      "48/48 [==============================] - 1s 11ms/step - loss: 0.5670 - accuracy: 0.8444 - val_loss: 0.7250 - val_accuracy: 0.7969\n",
      "Epoch 160/200\n",
      "48/48 [==============================] - 1s 11ms/step - loss: 0.5884 - accuracy: 0.8444 - val_loss: 0.7334 - val_accuracy: 0.7871\n",
      "Epoch 161/200\n",
      "48/48 [==============================] - 1s 11ms/step - loss: 0.6195 - accuracy: 0.8223 - val_loss: 0.7423 - val_accuracy: 0.7891\n",
      "Epoch 162/200\n",
      "48/48 [==============================] - 1s 11ms/step - loss: 0.6673 - accuracy: 0.8307 - val_loss: 0.8875 - val_accuracy: 0.7324\n",
      "Epoch 163/200\n",
      "48/48 [==============================] - 1s 11ms/step - loss: 0.7309 - accuracy: 0.8092 - val_loss: 0.7064 - val_accuracy: 0.7812\n",
      "Epoch 164/200\n",
      "48/48 [==============================] - 1s 11ms/step - loss: 0.6149 - accuracy: 0.8275 - val_loss: 0.5849 - val_accuracy: 0.8105\n",
      "Epoch 165/200\n",
      "48/48 [==============================] - 1s 11ms/step - loss: 0.5748 - accuracy: 0.8379 - val_loss: 0.9597 - val_accuracy: 0.7129\n",
      "Epoch 166/200\n",
      "48/48 [==============================] - 1s 11ms/step - loss: 0.6006 - accuracy: 0.8327 - val_loss: 0.6856 - val_accuracy: 0.7871\n",
      "Epoch 167/200\n",
      "48/48 [==============================] - 1s 11ms/step - loss: 0.5905 - accuracy: 0.8470 - val_loss: 0.7402 - val_accuracy: 0.7988\n",
      "Epoch 168/200\n",
      "48/48 [==============================] - 1s 11ms/step - loss: 0.6445 - accuracy: 0.8190 - val_loss: 0.6564 - val_accuracy: 0.8281\n",
      "Epoch 169/200\n",
      "48/48 [==============================] - 1s 11ms/step - loss: 0.6542 - accuracy: 0.8184 - val_loss: 0.5879 - val_accuracy: 0.8242\n",
      "Epoch 170/200\n",
      "48/48 [==============================] - 1s 11ms/step - loss: 0.5826 - accuracy: 0.8203 - val_loss: 1.0060 - val_accuracy: 0.7793\n"
     ]
    },
    {
     "name": "stdout",
     "output_type": "stream",
     "text": [
      "Epoch 171/200\n",
      "48/48 [==============================] - 1s 11ms/step - loss: 0.6719 - accuracy: 0.8294 - val_loss: 0.7473 - val_accuracy: 0.7988\n",
      "Epoch 172/200\n",
      "48/48 [==============================] - 1s 11ms/step - loss: 0.6782 - accuracy: 0.8151 - val_loss: 0.6061 - val_accuracy: 0.8359\n",
      "Epoch 173/200\n",
      "48/48 [==============================] - 1s 11ms/step - loss: 0.6744 - accuracy: 0.8288 - val_loss: 0.6722 - val_accuracy: 0.7969\n",
      "Epoch 174/200\n",
      "48/48 [==============================] - 1s 11ms/step - loss: 0.6691 - accuracy: 0.8327 - val_loss: 0.7175 - val_accuracy: 0.7676\n",
      "Epoch 175/200\n",
      "48/48 [==============================] - 1s 11ms/step - loss: 0.6040 - accuracy: 0.8203 - val_loss: 0.6771 - val_accuracy: 0.8086\n",
      "Epoch 176/200\n",
      "48/48 [==============================] - 1s 11ms/step - loss: 0.6336 - accuracy: 0.8301 - val_loss: 0.6498 - val_accuracy: 0.7969\n",
      "Epoch 177/200\n",
      "48/48 [==============================] - 1s 11ms/step - loss: 0.6710 - accuracy: 0.8229 - val_loss: 0.6288 - val_accuracy: 0.8066\n",
      "Epoch 178/200\n",
      "48/48 [==============================] - 1s 11ms/step - loss: 0.6914 - accuracy: 0.8210 - val_loss: 0.7220 - val_accuracy: 0.7734\n",
      "Epoch 179/200\n",
      "48/48 [==============================] - 1s 11ms/step - loss: 0.6750 - accuracy: 0.8229 - val_loss: 0.7537 - val_accuracy: 0.7930\n",
      "Epoch 180/200\n",
      "48/48 [==============================] - 1s 11ms/step - loss: 0.6143 - accuracy: 0.8262 - val_loss: 0.7116 - val_accuracy: 0.7910\n",
      "Epoch 181/200\n",
      "48/48 [==============================] - 1s 11ms/step - loss: 0.6589 - accuracy: 0.8203 - val_loss: 0.7193 - val_accuracy: 0.8066\n",
      "Epoch 182/200\n",
      "48/48 [==============================] - 1s 11ms/step - loss: 0.6384 - accuracy: 0.8197 - val_loss: 0.6601 - val_accuracy: 0.8047\n",
      "Epoch 183/200\n",
      "48/48 [==============================] - 1s 11ms/step - loss: 0.5976 - accuracy: 0.8359 - val_loss: 0.6649 - val_accuracy: 0.7949\n",
      "Epoch 184/200\n",
      "48/48 [==============================] - 1s 11ms/step - loss: 0.6536 - accuracy: 0.8223 - val_loss: 0.7880 - val_accuracy: 0.7656\n",
      "Epoch 185/200\n",
      "48/48 [==============================] - 1s 11ms/step - loss: 0.6324 - accuracy: 0.8203 - val_loss: 0.8502 - val_accuracy: 0.7539\n",
      "Epoch 186/200\n",
      "48/48 [==============================] - 1s 11ms/step - loss: 0.7398 - accuracy: 0.8034 - val_loss: 0.7228 - val_accuracy: 0.8047\n",
      "Epoch 187/200\n",
      "48/48 [==============================] - 1s 11ms/step - loss: 0.6026 - accuracy: 0.8359 - val_loss: 0.7529 - val_accuracy: 0.7539\n",
      "Epoch 188/200\n",
      "48/48 [==============================] - 1s 11ms/step - loss: 0.6950 - accuracy: 0.7943 - val_loss: 0.6807 - val_accuracy: 0.8027\n",
      "Epoch 189/200\n",
      "48/48 [==============================] - 1s 11ms/step - loss: 0.5818 - accuracy: 0.8346 - val_loss: 0.7685 - val_accuracy: 0.7891\n",
      "Epoch 190/200\n",
      "48/48 [==============================] - 1s 11ms/step - loss: 0.6514 - accuracy: 0.8066 - val_loss: 0.7366 - val_accuracy: 0.7832\n",
      "Epoch 191/200\n",
      "48/48 [==============================] - 1s 11ms/step - loss: 0.7358 - accuracy: 0.8197 - val_loss: 0.7788 - val_accuracy: 0.7734\n",
      "Epoch 192/200\n",
      "48/48 [==============================] - 1s 11ms/step - loss: 0.6350 - accuracy: 0.8392 - val_loss: 0.6848 - val_accuracy: 0.7852\n",
      "Epoch 193/200\n",
      "48/48 [==============================] - 1s 11ms/step - loss: 0.6887 - accuracy: 0.8184 - val_loss: 0.7949 - val_accuracy: 0.7793\n",
      "Epoch 194/200\n",
      "48/48 [==============================] - 1s 11ms/step - loss: 0.6279 - accuracy: 0.8307 - val_loss: 0.8307 - val_accuracy: 0.7871\n",
      "Epoch 195/200\n",
      "48/48 [==============================] - 1s 11ms/step - loss: 0.7109 - accuracy: 0.8008 - val_loss: 0.6156 - val_accuracy: 0.8145\n",
      "Epoch 196/200\n",
      "48/48 [==============================] - 1s 11ms/step - loss: 0.6458 - accuracy: 0.8132 - val_loss: 0.5860 - val_accuracy: 0.7969\n",
      "Epoch 197/200\n",
      "48/48 [==============================] - 1s 11ms/step - loss: 0.6151 - accuracy: 0.8229 - val_loss: 0.7087 - val_accuracy: 0.7930\n",
      "Epoch 198/200\n",
      "48/48 [==============================] - 1s 11ms/step - loss: 0.6515 - accuracy: 0.8190 - val_loss: 0.6607 - val_accuracy: 0.8047\n",
      "Epoch 199/200\n",
      "48/48 [==============================] - 1s 11ms/step - loss: 0.6594 - accuracy: 0.8132 - val_loss: 0.7806 - val_accuracy: 0.7969\n",
      "Epoch 200/200\n",
      "48/48 [==============================] - 1s 11ms/step - loss: 0.6551 - accuracy: 0.8118 - val_loss: 0.6629 - val_accuracy: 0.7734\n"
     ]
    }
   ],
   "source": [
    "epochs = 200\n",
    "history = model.fit_generator(\n",
    "    train_generator2, \n",
    "    epochs = epochs,\n",
    "    validation_data = validation_generator2)"
   ]
  },
  {
   "cell_type": "code",
   "execution_count": null,
   "metadata": {},
   "outputs": [],
   "source": [
    "input_i = layers.Input(shape=(28,28,1))\n",
    "x = layers.Conv2D(32, kernel_size=3, padding=\"same\", activation=\"relu\")(input_i)\n",
    "x = layers.Conv2D(32, kernel_size=3, padding=\"valid\",strides=2, activation=\"relu\")(x)\n",
    "x = layers.Dropout(0.5)(x)\n",
    "\n",
    "x = layers.Conv2D(64, kernel_size=3, padding=\"same\", activation=\"relu\")(x)\n",
    "x = layers.Conv2D(64, kernel_size=3, padding=\"valid\",strides=2, activation=\"relu\")(x)\n",
    "x = layers.Dropout(0.5)(x)\n",
    "\n",
    "x = layers.Conv2D(128, kernel_size=3, padding=\"same\", activation=\"relu\")(x)\n",
    "x = layers.Conv2D(128, kernel_size=3, padding=\"valid\",strides=2, activation=\"relu\")(x)\n",
    "x = layers.Dropout(0.5)(x)\n",
    "\n",
    "x = layers.Conv2D(128, kernel_size=3, padding=\"same\", activation=\"relu\")(x)\n",
    "x = layers.Flatten()(x)\n",
    "x = layers.Dropout(0.5)(x)\n",
    "\n",
    "c = base_model_l(input_i)\n",
    "n = layers.concatenate([x, c])\n",
    "\n",
    "x = layers.Dense(64, activation='relu')(n)\n",
    "\n",
    "output_i = layers.Dense(10, activation = \"softmax\")(x)\n",
    "\n",
    "base_model_i = models.Model(inputs=[input_i], outputs=[output_i])"
   ]
  },
  {
   "cell_type": "code",
   "execution_count": null,
   "metadata": {},
   "outputs": [],
   "source": [
    "model = base_model_i\n",
    "model.compile(optimizer=\"rmsprop\", loss=\"categorical_crossentropy\", \n",
    "             metrics=[\"accuracy\"])"
   ]
  },
  {
   "cell_type": "code",
   "execution_count": null,
   "metadata": {},
   "outputs": [],
   "source": [
    "epochs = 200\n",
    "history = model.fit_generator(\n",
    "    train_generator, \n",
    "    epochs = epochs,\n",
    "    validation_data = validation_generator)"
   ]
  },
  {
   "cell_type": "code",
   "execution_count": 29,
   "metadata": {},
   "outputs": [
    {
     "data": {
      "text/plain": [
       "(28, 28, 1)"
      ]
     },
     "execution_count": 29,
     "metadata": {},
     "output_type": "execute_result"
    }
   ],
   "source": [
    "X_train_full[0].shape"
   ]
  },
  {
   "cell_type": "code",
   "execution_count": 25,
   "metadata": {},
   "outputs": [
    {
     "name": "stdout",
     "output_type": "stream",
     "text": [
      "Train accuracy=0.86784, Validation accuracy=0.84180\n"
     ]
    }
   ],
   "source": [
    "print(\n",
    "    f\"Train accuracy={max(history.history['accuracy']):.5f}, \" +\n",
    "    f\"Validation accuracy={max(history.history['val_accuracy']):.5f}\"\n",
    ")"
   ]
  },
  {
   "cell_type": "code",
   "execution_count": 26,
   "metadata": {},
   "outputs": [
    {
     "data": {
      "image/png": "[encoded data removed]",
      "text/plain": [
       "<Figure size 432x288 with 1 Axes>"
      ]
     },
     "metadata": {},
     "output_type": "display_data"
    }
   ],
   "source": [
    "plt.figure()\n",
    "plt.plot(history.history['accuracy'],label='accuracy')\n",
    "plt.plot(history.history['val_accuracy'],label='validation accuracy')\n",
    "plt.xlabel('Epoch')\n",
    "plt.ylabel('Accuracy')\n",
    "plt.legend()\n",
    "plt.show()"
   ]
  },
  {
   "cell_type": "code",
   "execution_count": null,
   "metadata": {},
   "outputs": [],
   "source": []
  }
 ],
 "metadata": {
  "kernelspec": {
   "display_name": "Environment (conda_tensorflow2_p36)",
   "language": "python",
   "name": "conda_tensorflow2_p36"
  },
  "language_info": {
   "codemirror_mode": {
    "name": "ipython",
    "version": 3
   },
   "file_extension": ".py",
   "mimetype": "text/x-python",
   "name": "python",
   "nbconvert_exporter": "python",
   "pygments_lexer": "ipython3",
   "version": "3.6.10"
  }
 },
 "nbformat": 4,
 "nbformat_minor": 2
}
